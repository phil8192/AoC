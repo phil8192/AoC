{
 "cells": [
  {
   "cell_type": "code",
   "execution_count": 80,
   "id": "f15cb3b4",
   "metadata": {},
   "outputs": [],
   "source": [
    "import pandas as pd\n",
    "import sqlite3"
   ]
  },
  {
   "cell_type": "code",
   "execution_count": 64,
   "id": "8869000b",
   "metadata": {},
   "outputs": [
    {
     "data": {
      "text/html": [
       "<div>\n",
       "<style scoped>\n",
       "    .dataframe tbody tr th:only-of-type {\n",
       "        vertical-align: middle;\n",
       "    }\n",
       "\n",
       "    .dataframe tbody tr th {\n",
       "        vertical-align: top;\n",
       "    }\n",
       "\n",
       "    .dataframe thead th {\n",
       "        text-align: right;\n",
       "    }\n",
       "</style>\n",
       "<table border=\"1\" class=\"dataframe\">\n",
       "  <thead>\n",
       "    <tr style=\"text-align: right;\">\n",
       "      <th></th>\n",
       "      <th>0</th>\n",
       "    </tr>\n",
       "  </thead>\n",
       "  <tbody>\n",
       "    <tr>\n",
       "      <th>problem_1</th>\n",
       "      <td>11841</td>\n",
       "    </tr>\n",
       "    <tr>\n",
       "      <th>problem_2</th>\n",
       "      <td>13022</td>\n",
       "    </tr>\n",
       "  </tbody>\n",
       "</table>\n",
       "</div>"
      ],
      "text/plain": [
       "               0\n",
       "problem_1  11841\n",
       "problem_2  13022"
      ]
     },
     "execution_count": 64,
     "metadata": {},
     "output_type": "execute_result"
    }
   ],
   "source": [
    "x = pd.read_csv(\"x.csv\")\n",
    "c = sqlite3.connect(\":memory:\")\n",
    "x.to_sql(name=\"x\", index=False, con=c)\n",
    "\n",
    "sql = \"\"\"\n",
    "select sum((3+V2-V1+1)%3*3) + sum(V2+1) as problem_1,\n",
    "       sum((3+V2+V1-1)%3+1) + sum(V2*3) as problem_2\n",
    "from x\n",
    "\"\"\"\n",
    "pd.read_sql_query(sql, c).T"
   ]
  },
  {
   "cell_type": "code",
   "execution_count": 97,
   "id": "0527bb7b",
   "metadata": {},
   "outputs": [
    {
     "data": {
      "text/html": [
       "<div>\n",
       "<style scoped>\n",
       "    .dataframe tbody tr th:only-of-type {\n",
       "        vertical-align: middle;\n",
       "    }\n",
       "\n",
       "    .dataframe tbody tr th {\n",
       "        vertical-align: top;\n",
       "    }\n",
       "\n",
       "    .dataframe thead th {\n",
       "        text-align: right;\n",
       "    }\n",
       "</style>\n",
       "<table border=\"1\" class=\"dataframe\">\n",
       "  <thead>\n",
       "    <tr style=\"text-align: right;\">\n",
       "      <th></th>\n",
       "      <th>0</th>\n",
       "    </tr>\n",
       "  </thead>\n",
       "  <tbody>\n",
       "    <tr>\n",
       "      <th>problem_1</th>\n",
       "      <td>11841</td>\n",
       "    </tr>\n",
       "    <tr>\n",
       "      <th>problem_2</th>\n",
       "      <td>13022</td>\n",
       "    </tr>\n",
       "  </tbody>\n",
       "</table>\n",
       "</div>"
      ],
      "text/plain": [
       "               0\n",
       "problem_1  11841\n",
       "problem_2  13022"
      ]
     },
     "execution_count": 97,
     "metadata": {},
     "output_type": "execute_result"
    }
   ],
   "source": [
    "sql = \"\"\"\n",
    "select sum(iif(V1==0 and V2==1\n",
    "                or V1==1 and V2==2\n",
    "                or V1==2 and V2==0, 7+V2, 0)) +\n",
    "       sum(iif(V1==V2, 4+V2, 0)) +\n",
    "       sum(iif(V1==0 and V2==2\n",
    "            or V1==1 and V2==0\n",
    "            or V1==2 and V2==1, 1+V2, 0)) as problem_1,\n",
    "       sum(iif(V2==2, iif(V1==0, 8, iif(V1==1, 9, 7)), 0)) +\n",
    "       sum(iif(V2==1, 4+V1, 0)) +\n",
    "       sum(iif(V2==0, iif(V1==0, 3, iif(V1==1, 1, 2)), 0)) as problem_2\n",
    "from x\n",
    "\"\"\"\n",
    "pd.read_sql_query(sql, c).T"
   ]
  },
  {
   "cell_type": "code",
   "execution_count": null,
   "id": "dc8ea5cd",
   "metadata": {},
   "outputs": [],
   "source": []
  }
 ],
 "metadata": {
  "kernelspec": {
   "display_name": "Python 3 (ipykernel)",
   "language": "python",
   "name": "python3"
  },
  "language_info": {
   "codemirror_mode": {
    "name": "ipython",
    "version": 3
   },
   "file_extension": ".py",
   "mimetype": "text/x-python",
   "name": "python",
   "nbconvert_exporter": "python",
   "pygments_lexer": "ipython3",
   "version": "3.10.8"
  }
 },
 "nbformat": 4,
 "nbformat_minor": 5
}
